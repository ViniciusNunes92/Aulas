{
 "cells": [
  {
   "cell_type": "code",
   "execution_count": 7,
   "metadata": {},
   "outputs": [
    {
     "name": "stdout",
     "output_type": "stream",
     "text": [
      "o numero digita é: 45\n"
     ]
    }
   ],
   "source": [
    "valor_int = int(input(\"digite um numero:\"))\n",
    "print(\"o numero digitado é:\", valor_int)"
   ]
  },
  {
   "cell_type": "code",
   "execution_count": 1,
   "metadata": {},
   "outputs": [
    {
     "name": "stdout",
     "output_type": "stream",
     "text": [
      "a soma dos valores digitados é: 6\n"
     ]
    }
   ],
   "source": [
    "valor1 = int(input(\"digite um numero:\"))\n",
    "valor2 = int(input(\"digite um numero:\"))\n",
    "soma = valor1 + valor2\n",
    "print(\"a soma dos valores digitados é:\", soma)"
   ]
  },
  {
   "cell_type": "code",
   "execution_count": 3,
   "metadata": {},
   "outputs": [
    {
     "name": "stdout",
     "output_type": "stream",
     "text": [
      " A média é igual a 7.0\n"
     ]
    }
   ],
   "source": [
    "nota1 = float(input(\"digite a primeira nota:\"))\n",
    "nota2 = float(input(\"digite a segunda nota:\"))\n",
    "nota3 = float(input(\"digite a terceira nota:\"))\n",
    "soma = nota1 + nota2 + nota3\n",
    "media = soma/3\n",
    "print(\" A média é igual a\", media)"
   ]
  },
  {
   "cell_type": "code",
   "execution_count": 5,
   "metadata": {},
   "outputs": [
    {
     "name": "stdout",
     "output_type": "stream",
     "text": [
      "salario por hora: 8 * horas por mês: 40 = 320\n"
     ]
    }
   ],
   "source": [
    "salHora = int(input(\"digite quanto ganha:\"))\n",
    "horaMes = int(input(\"digite horas trabalhadas ao mês\"))\n",
    "salario = horaMes*salHora\n",
    "print(\"salario por hora:\", salHora, \"*\", \"horas por mês:\", horaMes, \"=\", salario)\n"
   ]
  },
  {
   "cell_type": "code",
   "execution_count": 6,
   "metadata": {},
   "outputs": [
    {
     "name": "stdout",
     "output_type": "stream",
     "text": [
      "Sua multa é de: 8.0 reais\n"
     ]
    }
   ],
   "source": [
    "peso_peixe = float(input(\"Qual o peso do peixe? \"))\n",
    "multa = 4.00\n",
    "\n",
    "if peso_peixe > 50:\n",
    "    excesso = float(input(\"Qual a quantidade de quilos excedentes: \"))\n",
    "    calculo = excesso * multa\n",
    "    print(f\"Sua multa é de: {calculo} reais\")\n",
    "else:\n",
    "    print(\"você não será multado.\")"
   ]
  }
 ],
 "metadata": {
  "kernelspec": {
   "display_name": "Python 3",
   "language": "python",
   "name": "python3"
  },
  "language_info": {
   "codemirror_mode": {
    "name": "ipython",
    "version": 3
   },
   "file_extension": ".py",
   "mimetype": "text/x-python",
   "name": "python",
   "nbconvert_exporter": "python",
   "pygments_lexer": "ipython3",
   "version": "3.10.2"
  }
 },
 "nbformat": 4,
 "nbformat_minor": 2
}
